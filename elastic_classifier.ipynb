{
 "cells": [
  {
   "cell_type": "code",
   "execution_count": 24,
   "metadata": {},
   "outputs": [],
   "source": [
    "import json\n",
    "from tqdm import tqdm\n",
    "from elasticsearch import Elasticsearch"
   ]
  },
  {
   "cell_type": "code",
   "execution_count": null,
   "metadata": {},
   "outputs": [],
   "source": []
  },
  {
   "cell_type": "code",
   "execution_count": 31,
   "metadata": {},
   "outputs": [],
   "source": [
    "elastic_host = 'localhost'\n",
    "elastic_port = 9200\n",
    "index_name = 'elastic_classifier'"
   ]
  },
  {
   "cell_type": "code",
   "execution_count": 32,
   "metadata": {},
   "outputs": [],
   "source": [
    "es = Elasticsearch([{'host': elastic_host, 'port': elastic_port}])"
   ]
  },
  {
   "cell_type": "code",
   "execution_count": 34,
   "metadata": {},
   "outputs": [
    {
     "name": "stderr",
     "output_type": "stream",
     "text": [
      "/home/arsen/anaconda3/envs/my_conda_env/lib/python3.6/site-packages/ipykernel_launcher.py:1: DeprecationWarning: Using positional arguments for APIs is deprecated and will be disabled in 8.0.0. Instead use only keyword arguments for all APIs. See https://github.com/elastic/elasticsearch-py/issues/1698 for more information\n",
      "  \"\"\"Entry point for launching an IPython kernel.\n"
     ]
    }
   ],
   "source": [
    "if not es.indices.exists(index_name):\n",
    "    es.indices.create(index_name)"
   ]
  },
  {
   "cell_type": "code",
   "execution_count": null,
   "metadata": {},
   "outputs": [],
   "source": []
  },
  {
   "cell_type": "code",
   "execution_count": null,
   "metadata": {},
   "outputs": [],
   "source": []
  },
  {
   "cell_type": "code",
   "execution_count": 35,
   "metadata": {},
   "outputs": [],
   "source": [
    "def add_record(es, index_name, record):\n",
    "    \"\"\"\n",
    "    Add a single record to index\n",
    "    \"\"\"\n",
    "    try:\n",
    "        es.index(index=index_name, document=record)\n",
    "    except Exception as ex:\n",
    "        print(str(ex))\n",
    "        \n",
    "        \n",
    "def search(es, index_name, search_text):\n",
    "    \"\"\"\n",
    "    Search index for the search text\n",
    "    \"\"\"\n",
    "    search_object = {'query': {'match': {'text': search_text}}}\n",
    "    res = es.search(index=index_name, body=json.dumps(search_object))\n",
    "    return res"
   ]
  },
  {
   "cell_type": "code",
   "execution_count": null,
   "metadata": {},
   "outputs": [],
   "source": []
  },
  {
   "cell_type": "code",
   "execution_count": 36,
   "metadata": {},
   "outputs": [],
   "source": [
    "def fill_index_with_data(texts, labels, es, index_name):\n",
    "    \"\"\"\n",
    "    fill the index with data (texts and their corresponding labels)\n",
    "    \"\"\"\n",
    "    for text, label in tqdm(zip(texts, labels)):\n",
    "        doc = json.dumps({'label': str(label), 'text': str(text)})\n",
    "        add_record(es, index_name, doc)    "
   ]
  },
  {
   "cell_type": "code",
   "execution_count": null,
   "metadata": {},
   "outputs": [],
   "source": []
  },
  {
   "cell_type": "code",
   "execution_count": 41,
   "metadata": {},
   "outputs": [],
   "source": [
    "def predict(es, text, normalize_by_score=True):\n",
    "    \"\"\"\n",
    "    Calculate prediction for the provided text. \n",
    "    Elasticsearch returns scores for multiple hits for the given query. Prediction can be brought to\n",
    "    scale [0,1] by normalizing either by class counts or by class scores of all the hits.\n",
    "    Args:\n",
    "        es: elasticsearch object\n",
    "        text: search query string\n",
    "        normalize_by_score: whether to normalize by scores of the hits or by counts\n",
    "    \"\"\"\n",
    "    res = search(es, index_name, text)\n",
    "    \n",
    "    if not res['hits']['hits']:\n",
    "        return None\n",
    "    else:\n",
    "        hits = res['hits']['total']['value']\n",
    "        max_score = res['hits']['max_score']\n",
    "        \n",
    "        preds = {}\n",
    "        for pred_i in res['hits']['hits']:\n",
    "            pred_class = pred_i['_source']['label']\n",
    "            score = pred_i['_score']\n",
    "            #accumaluate the hits scores and counts by predicted classes\n",
    "            if pred_class not in preds:\n",
    "                preds[pred_class] = {}\n",
    "                preds[pred_class]['score'] = score\n",
    "                preds[pred_class]['count'] = 1\n",
    "            else:\n",
    "                preds[pred_class]['score'] += score\n",
    "                preds[pred_class]['count'] += 1\n",
    "                \n",
    "        pred_classes, scores_and_counts = list(zip(*list(preds.items())))\n",
    "        \n",
    "        score_type = 'score' if normalize_by_score else 'count'\n",
    "        scores = [i[score_type] for i in scores_and_counts]\n",
    "        scores = [i/sum(scores) for i in scores]\n",
    "        \n",
    "        return list(zip(pred_classes, scores))\n",
    "        \n",
    "            \n",
    "            "
   ]
  },
  {
   "cell_type": "code",
   "execution_count": null,
   "metadata": {},
   "outputs": [],
   "source": []
  },
  {
   "cell_type": "code",
   "execution_count": null,
   "metadata": {},
   "outputs": [],
   "source": []
  },
  {
   "cell_type": "code",
   "execution_count": null,
   "metadata": {},
   "outputs": [],
   "source": []
  },
  {
   "cell_type": "code",
   "execution_count": 38,
   "metadata": {},
   "outputs": [],
   "source": [
    "#  Toy example \n",
    "texts = ['dell computer', 'panasonic tv, black', 'wooden furniture', \n",
    "         'black table with chair set', 'lcd monitor', 'sofa',\n",
    "         'ikea chest of drawers', 'apple macbook pro'\n",
    "        ]\n",
    "labels = ['electronics', 'electronics', 'furniture', \n",
    "         'furniture', 'electronics', 'furniture',\n",
    "         'furniture', 'electronics'\n",
    "         ]"
   ]
  },
  {
   "cell_type": "code",
   "execution_count": 39,
   "metadata": {},
   "outputs": [
    {
     "name": "stderr",
     "output_type": "stream",
     "text": [
      "0it [00:00, ?it/s]/home/arsen/anaconda3/envs/my_conda_env/lib/python3.6/site-packages/elasticsearch/connection/base.py:209: ElasticsearchWarning: Elasticsearch built-in security features are not enabled. Without authentication, your cluster could be accessible to anyone. See https://www.elastic.co/guide/en/elasticsearch/reference/7.14/security-minimal-setup.html to enable security.\n",
      "  warnings.warn(message, category=ElasticsearchWarning)\n",
      "8it [00:00, 74.16it/s]\n"
     ]
    }
   ],
   "source": [
    "fill_index_with_data(texts, labels, es, index_name)"
   ]
  },
  {
   "cell_type": "code",
   "execution_count": 52,
   "metadata": {},
   "outputs": [
    {
     "name": "stderr",
     "output_type": "stream",
     "text": [
      "/home/arsen/anaconda3/envs/my_conda_env/lib/python3.6/site-packages/ipykernel_launcher.py:10: DeprecationWarning: The 'body' parameter is deprecated for the 'search' API and will be removed in a future version. Instead use API parameters directly. See https://github.com/elastic/elasticsearch-py/issues/1698 for more information\n",
      "  # Remove the CWD from sys.path while we load stuff.\n"
     ]
    },
    {
     "data": {
      "text/plain": [
       "[('furniture', 1.0)]"
      ]
     },
     "execution_count": 52,
     "metadata": {},
     "output_type": "execute_result"
    }
   ],
   "source": [
    "predict(es, 'ikea bed', normalize_by_score=True)"
   ]
  },
  {
   "cell_type": "code",
   "execution_count": null,
   "metadata": {},
   "outputs": [],
   "source": []
  },
  {
   "cell_type": "code",
   "execution_count": null,
   "metadata": {},
   "outputs": [],
   "source": []
  },
  {
   "cell_type": "code",
   "execution_count": null,
   "metadata": {},
   "outputs": [],
   "source": []
  },
  {
   "cell_type": "code",
   "execution_count": null,
   "metadata": {},
   "outputs": [],
   "source": []
  },
  {
   "cell_type": "code",
   "execution_count": null,
   "metadata": {},
   "outputs": [],
   "source": []
  },
  {
   "cell_type": "code",
   "execution_count": null,
   "metadata": {},
   "outputs": [],
   "source": []
  }
 ],
 "metadata": {
  "kernelspec": {
   "display_name": "Python 3",
   "language": "python",
   "name": "python3"
  },
  "language_info": {
   "codemirror_mode": {
    "name": "ipython",
    "version": 3
   },
   "file_extension": ".py",
   "mimetype": "text/x-python",
   "name": "python",
   "nbconvert_exporter": "python",
   "pygments_lexer": "ipython3",
   "version": "3.6.8"
  }
 },
 "nbformat": 4,
 "nbformat_minor": 2
}
